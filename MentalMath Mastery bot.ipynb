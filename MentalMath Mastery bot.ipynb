{
 "cells": [
  {
   "cell_type": "code",
   "execution_count": 1,
   "id": "bf62730f",
   "metadata": {},
   "outputs": [
    {
     "name": "stdout",
     "output_type": "stream",
     "text": [
      "Welcome to Mental Math Tutor!\n",
      "Are you ready to start? (yes/no): yes\n",
      "Great! Let's begin.\n",
      "What is 12 / 2?\n",
      "Your answer: 6\n",
      "Wrong! The correct answer is 6.0. Time taken: 3.73 seconds\n",
      "What is 3 - 13?\n",
      "Your answer: -10\n",
      "Correct! Well done! Time taken: 4.27 seconds\n",
      "What is 4 * 19?\n",
      "Your answer: 30\n",
      "Wrong! The correct answer is 76. Time taken: 4.20 seconds\n",
      "What is 9 * 15?\n",
      "Your answer: 30\n",
      "Wrong! The correct answer is 135. Time taken: 2.36 seconds\n",
      "What is 19 / 1?\n",
      "Your answer: 19\n",
      "Wrong! The correct answer is 19.0. Time taken: 4.79 seconds\n",
      "You answered 1 out of 5 problems correctly.\n",
      "Don't worry, keep practicing!\n"
     ]
    }
   ],
   "source": [
    "import random\n",
    "import time\n",
    "\n",
    "def generate_math_problem():\n",
    "    num1 = random.randint(1, 20)  # Generate random number between 1 and 20\n",
    "    num2 = random.randint(1, 20)\n",
    "    operator = random.choice(['+', '-', '*', '/'])  # Randomly choose an arithmetic operator\n",
    "    problem = f\"{num1} {operator} {num2}\"\n",
    "    if operator == '/':\n",
    "        # Ensure division problems have whole number solutions\n",
    "        while num1 % num2 != 0:\n",
    "            num1 = random.randint(1, 20)\n",
    "            num2 = random.randint(1, 20)\n",
    "            problem = f\"{num1} {operator} {num2}\"\n",
    "    return problem, str(eval(problem))  # Calculate the solution\n",
    "\n",
    "def math_tutor():\n",
    "    print(\"Welcome to Mental Math Tutor!\")\n",
    "    ready = input(\"Are you ready to start? (yes/no): \").lower()\n",
    "    if ready != 'yes':\n",
    "        print(\"Okay, come back when you're ready. Goodbye!\")\n",
    "        return\n",
    "    \n",
    "    print(\"Great! Let's begin.\")\n",
    "    score = 0\n",
    "    total_problems = 5  # Number of problems to solve\n",
    "    \n",
    "    for _ in range(total_problems):\n",
    "        problem, correct_answer = generate_math_problem()\n",
    "        print(f\"What is {problem}?\")\n",
    "        start_time = time.time()  # Record start time\n",
    "        user_answer = input(\"Your answer: \")\n",
    "        end_time = time.time()  # Record end time\n",
    "        elapsed_time = end_time - start_time\n",
    "        \n",
    "        if user_answer == correct_answer:\n",
    "            print(f\"Correct! Well done! Time taken: {elapsed_time:.2f} seconds\")\n",
    "            score += 1\n",
    "        else:\n",
    "            print(f\"Wrong! The correct answer is {correct_answer}. Time taken: {elapsed_time:.2f} seconds\")\n",
    "    \n",
    "    print(f\"You answered {score} out of {total_problems} problems correctly.\")\n",
    "    if score == total_problems:\n",
    "        print(\"Congratulations! You mastered all the problems!\")\n",
    "    else:\n",
    "        print(\"Don't worry, keep practicing!\")\n",
    "\n",
    "# Run the math tutoring bot\n",
    "math_tutor()\n"
   ]
  },
  {
   "cell_type": "code",
   "execution_count": null,
   "id": "f44377c8",
   "metadata": {},
   "outputs": [],
   "source": []
  }
 ],
 "metadata": {
  "kernelspec": {
   "display_name": "Python 3 (ipykernel)",
   "language": "python",
   "name": "python3"
  },
  "language_info": {
   "codemirror_mode": {
    "name": "ipython",
    "version": 3
   },
   "file_extension": ".py",
   "mimetype": "text/x-python",
   "name": "python",
   "nbconvert_exporter": "python",
   "pygments_lexer": "ipython3",
   "version": "3.10.9"
  }
 },
 "nbformat": 4,
 "nbformat_minor": 5
}
